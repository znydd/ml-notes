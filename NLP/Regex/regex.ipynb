{
 "cells": [
  {
   "cell_type": "code",
   "execution_count": 2,
   "id": "438e48b7",
   "metadata": {},
   "outputs": [],
   "source": [
    "import re"
   ]
  },
  {
   "cell_type": "code",
   "execution_count": 5,
   "id": "df2f5ce6",
   "metadata": {},
   "outputs": [
    {
     "name": "stdout",
     "output_type": "stream",
     "text": [
      "Found a match: <re.Match object; span=(18, 27), match='Buttercup'>\n",
      "Found a match: Buttercup\n"
     ]
    }
   ],
   "source": [
    "text = \"I'm called little Buttercup\"\n",
    "text2 = \"I'm called little Buttercups\"\n",
    "pattern = r\"Buttercup\"\n",
    "match = re.search(pattern , text2) # The 'r' is important!\n",
    "\n",
    "if match:\n",
    "    print(f\"Found a match: {match}\")\n",
    "    print(f\"Found a match: {match.group()}\")\n",
    "else:\n",
    "    print(\"No match found.\")"
   ]
  },
  {
   "cell_type": "code",
   "execution_count": 10,
   "id": "8107d74a",
   "metadata": {},
   "outputs": [
    {
     "name": "stdout",
     "output_type": "stream",
     "text": [
      "Found a match: Woodchuck\n",
      "Found a match: ['Woodchuck', 'woodchuck']\n"
     ]
    }
   ],
   "source": [
    "text = \"A Woodchuck is here. A woodchuck\"\n",
    "pattern = r\"[wW]oodchuck\"\n",
    "match = re.search(pattern , text) \n",
    "match_all = re.findall(pattern , text) \n",
    "\n",
    "if match:\n",
    "    print(f\"Found a match: {match.group()}\")\n",
    "    print(f\"Found a match: {match_all}\")\n",
    "else:\n",
    "    print(\"No match found.\")"
   ]
  },
  {
   "cell_type": "code",
   "execution_count": null,
   "id": "34f98ba2",
   "metadata": {},
   "outputs": [
    {
     "name": "stdout",
     "output_type": "stream",
     "text": [
      "Found a match: ['7', '5', '2', '2', '1', '0', '1', '1', '1', '0']\n",
      "Found a match2: ['A', 'D', 'B']\n"
     ]
    }
   ],
   "source": [
    "text = \"plenty of 7 to 5 and the id is 22101110\"\n",
    "pattern = r\"[0-9]\"\n",
    "match_all = re.findall(pattern , text) \n",
    "\n",
    "text2 = \"A Drenched Blossoms\" \n",
    "pattern2 = r\"[A-Z]\"\n",
    "match_all2 = re.findall(pattern2 , text2) \n",
    "\n",
    "print(f\"Found a match: {match_all}\")\n",
    "print(f\"Found a match2: {match_all2}\")"
   ]
  },
  {
   "cell_type": "code",
   "execution_count": 15,
   "id": "bc5f332c",
   "metadata": {},
   "outputs": [
    {
     "name": "stdout",
     "output_type": "stream",
     "text": [
      "Found a match: ['a', 'b', 'i', 'l']\n",
      "Found a match2: ['e', 'a', 'o', 'n', ' ', 'e', 'i', 'o', 'n']\n"
     ]
    }
   ],
   "source": [
    "text1 = \"Nabil\"\n",
    "pattern1 =r\"[^A-Z]\"\n",
    "no_caps = re.findall(pattern1, text1)\n",
    "\n",
    "text2 = \"Season session\"\n",
    "pattern2 = r\"[^Ss]\"\n",
    "no_Ss= re.findall(pattern2, text2)\n",
    "\n",
    "print(f\"Found a match: {no_caps}\")\n",
    "print(f\"Found a match2: {no_Ss}\")"
   ]
  },
  {
   "cell_type": "code",
   "execution_count": null,
   "id": "9591706d",
   "metadata": {},
   "outputs": [
    {
     "name": "stdout",
     "output_type": "stream",
     "text": [
      "Match 1: color\n",
      "Match 2: colour\n"
     ]
    }
   ],
   "source": [
    "text1 = \"What color is this?\"\n",
    "text2 = \"The colour is red.\"\n",
    "pattern = r\"colou?r\" \n",
    "\n",
    "match1 = re.search(pattern, text1)\n",
    "match2 = re.search(pattern, text2)\n",
    "\n",
    "print(f\"Match 1: {match1.group()}\") # Output: Match 1: color\n",
    "print(f\"Match 2: {match2.group()}\") # Output: Match 2: colour"
   ]
  },
  {
   "cell_type": "code",
   "execution_count": 23,
   "id": "b2510e9a",
   "metadata": {},
   "outputs": [
    {
     "name": "stdout",
     "output_type": "stream",
     "text": [
      "\n",
      "Pattern: ab+\n",
      "Text: 'a' -> Match: None\n",
      "Text: 'ab' -> Match: ab\n",
      "Text: 'abbb' -> Match: abbb\n",
      "Text: 'ac' -> Match: None\n"
     ]
    }
   ],
   "source": [
    "# Pattern: 'a' followed by one or more 'b's\n",
    "pattern_plus = r'ab+' \n",
    "\n",
    "texts = [\"a\", \"ab\", \"abbb\", \"ac\"]\n",
    "\n",
    "print(f\"\\nPattern: {pattern_plus}\")\n",
    "for text in texts:\n",
    "    match = re.match(pattern_plus, text)\n",
    "    print(f\"Text: '{text}' -> Match: {match.group() if match else 'None'}\")\n",
    "# Output:\n",
    "# Text: 'a' -> Match: None     # Fails because 'b' must be present at least once\n",
    "# Text: 'ab' -> Match: ab     # 'b' appears 1 time\n",
    "# Text: 'abbb' -> Match: abbb   # 'b' appears 3 times\n",
    "# Text: 'ac' -> Match: None     # Fails because 'b' must be present"
   ]
  },
  {
   "cell_type": "code",
   "execution_count": 3,
   "id": "b9651f86",
   "metadata": {},
   "outputs": [
    {
     "name": "stdout",
     "output_type": "stream",
     "text": [
      "Pattern: ab*\n",
      "Text: 'a' -> Match: a\n",
      "Text: 'ab' -> Match: ab\n",
      "Text: 'abbb' -> Match: abbb\n",
      "Text: 'ac' -> Match: a\n"
     ]
    }
   ],
   "source": [
    "# Pattern: 'a' followed by zero or more 'b's\n",
    "pattern_star = r'ab*' \n",
    "\n",
    "texts = [\"a\", \"ab\", \"abbb\", \"ac\"]\n",
    "\n",
    "print(f\"Pattern: {pattern_star}\")\n",
    "for text in texts:\n",
    "    match = re.match(pattern_star, text)\n",
    "    print(f\"Text: '{text}' -> Match: {match.group() if match else 'None'}\")\n",
    "# Output:\n",
    "# Text: 'a' -> Match: a      # 'b' appears 0 times\n",
    "# Text: 'ab' -> Match: ab     # 'b' appears 1 time\n",
    "# Text: 'abbb' -> Match: abbb   # 'b' appears 3 times\n",
    "# Text: 'ac' -> Match: a      # Only 'a' matches, as 'b' is optional"
   ]
  },
  {
   "cell_type": "code",
   "execution_count": null,
   "id": "c4399d4c",
   "metadata": {},
   "outputs": [
    {
     "name": "stdout",
     "output_type": "stream",
     "text": [
      "['2', '0', '2', '5', '1', '9', '9', '5', '0']\n"
     ]
    }
   ],
   "source": [
    "text = \"In 2025, the price is $199 and 50 cents.\"\n",
    "numbers = re.findall(r\"[0-9]+\", text)\n",
    "print(numbers) # Output: ['2025', '199', '50']"
   ]
  },
  {
   "cell_type": "code",
   "execution_count": null,
   "id": "6c4d7313",
   "metadata": {},
   "outputs": [
    {
     "name": "stdout",
     "output_type": "stream",
     "text": [
      "['began', 'begun', 'begun']\n"
     ]
    }
   ],
   "source": [
    "text = \"It began with one, but now it has begun. Also begun\"\n",
    "matches = re.findall(r\"beg.n\", text)\n",
    "print(matches) # Output: ['began', 'begun', 'begun']"
   ]
  },
  {
   "cell_type": "code",
   "execution_count": 7,
   "id": "42783b6c",
   "metadata": {},
   "outputs": [
    {
     "name": "stdout",
     "output_type": "stream",
     "text": [
      "<re.Match object; span=(0, 3), match='The'>\n",
      "None\n"
     ]
    }
   ],
   "source": [
    "text1 = \"The quick brown fox\"\n",
    "text2 = \"A fox, The quick one\"\n",
    "\n",
    "print(re.search(r\"^The\", text1)) # Output: <re.Match object; span=(0, 3), match='The'>\n",
    "print(re.search(r\"^The\", text2)) # Output: None"
   ]
  },
  {
   "cell_type": "code",
   "execution_count": 8,
   "id": "49003612",
   "metadata": {},
   "outputs": [
    {
     "name": "stdout",
     "output_type": "stream",
     "text": [
      "<re.Match object; span=(40, 44), match='dog.'>\n",
      "None\n"
     ]
    }
   ],
   "source": [
    "text1 = \"The quick brown fox jumps over the lazy dog.\"\n",
    "text2 = \"The quick brown fox jumps over the lazy dog. Yes.\"\n",
    "\n",
    "# We must escape the period with \\. so it means \"a literal period\"\n",
    "# and not \"any character\".\n",
    "print(re.search(r\"dog\\.$\", text1)) # Output: <re.Match object; span=(40, 44), match='dog.'>\n",
    "print(re.search(r\"dog\\.$\", text2)) # Output: None"
   ]
  },
  {
   "cell_type": "code",
   "execution_count": 9,
   "id": "cac0886a",
   "metadata": {},
   "outputs": [
    {
     "name": "stdout",
     "output_type": "stream",
     "text": [
      "['the']\n",
      "['the', 'the', 'the']\n"
     ]
    }
   ],
   "source": [
    "text = \"The other theory is that the dog is fast.\"\n",
    "# We use re.findall() to find all occurrences\n",
    "matches = re.findall(r\"\\bthe\\b\", text)\n",
    "print(matches) # Output: ['the']\n",
    "\n",
    "# What if we didn't use boundaries?\n",
    "no_boundaries = re.findall(r\"the\", text)\n",
    "print(no_boundaries) # Output: ['the', 'the'] (from \"other\" and \"the\")"
   ]
  },
  {
   "cell_type": "code",
   "execution_count": null,
   "id": "1e87e758",
   "metadata": {},
   "outputs": [
    {
     "name": "stdout",
     "output_type": "stream",
     "text": [
      "['cat', 'dog', 'human']\n"
     ]
    }
   ],
   "source": [
    "dis = \"I like my cat, but my neighbor likes his dog. He is a human\"\n",
    "pets = re.findall(r\"cat|dog|human\", dis)\n",
    "\n",
    "print(pets)\n",
    "# Output: ['cat', 'dog', 'human']"
   ]
  },
  {
   "cell_type": "code",
   "execution_count": 4,
   "id": "21f27884",
   "metadata": {},
   "outputs": [
    {
     "name": "stdout",
     "output_type": "stream",
     "text": [
      "Wrong: ['ha', 'ha', 'ha', 'haa']\n",
      "Right: ['ha', 'ha']\n"
     ]
    }
   ],
   "source": [
    "import re\n",
    "text = \"He laughed: hahaha! Not just haa.\"\n",
    "\n",
    "# Wrong way\n",
    "print(f\"Wrong: {re.findall(r'ha+', text)}\")\n",
    "\n",
    "# Right way\n",
    "print(f\"Right: {re.findall(r'(ha)+', text)}\")"
   ]
  },
  {
   "cell_type": "code",
   "execution_count": 14,
   "id": "49604ac9",
   "metadata": {},
   "outputs": [
    {
     "name": "stdout",
     "output_type": "stream",
     "text": [
      "<re.Match object; span=(16, 18), match='91'>\n"
     ]
    }
   ],
   "source": [
    "text = \"Brother this is 911 stuf\"\n",
    "pattern = r\"\\d\" # <re.Match object; span=(16, 17), match='9'>\n",
    "pattern = r\"\\D\" # <re.Match object; span=(0, 1), match='B'>\n",
    "pattern = r\"\\w\" # <re.Match object; span=(0, 1), match='B'>\n",
    "pattern = r\"\\W\" # <re.Match object; span=(7, 8), match=' '>\n",
    "pattern = r\"\\s\" # <re.Match object; span=(7, 8), match=' '>\n",
    "pattern = r\"\\d{2}\" # <re.Match object; span=(16, 18), match='91'> \n",
    "\n",
    "match = re.search(pattern, text)\n",
    "print(match)\n",
    "\n"
   ]
  },
  {
   "cell_type": "code",
   "execution_count": null,
   "id": "77d82c61",
   "metadata": {},
   "outputs": [],
   "source": []
  }
 ],
 "metadata": {
  "kernelspec": {
   "display_name": "ml-notes",
   "language": "python",
   "name": "python3"
  },
  "language_info": {
   "codemirror_mode": {
    "name": "ipython",
    "version": 3
   },
   "file_extension": ".py",
   "mimetype": "text/x-python",
   "name": "python",
   "nbconvert_exporter": "python",
   "pygments_lexer": "ipython3",
   "version": "3.12.3"
  }
 },
 "nbformat": 4,
 "nbformat_minor": 5
}
